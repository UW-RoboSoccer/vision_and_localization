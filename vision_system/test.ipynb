{
 "cells": [
  {
   "cell_type": "code",
   "execution_count": 15,
   "id": "36be1850",
   "metadata": {},
   "outputs": [
    {
     "name": "stderr",
     "output_type": "stream",
     "text": [
      "OpenCV: out device of bound (0-1): 2\n",
      "OpenCV: camera failed to properly initialize!\n",
      "OpenCV: out device of bound (0-1): 3\n",
      "OpenCV: camera failed to properly initialize!\n",
      "OpenCV: out device of bound (0-1): 4\n",
      "OpenCV: camera failed to properly initialize!\n",
      "OpenCV: out device of bound (0-1): 5\n",
      "OpenCV: camera failed to properly initialize!\n",
      "OpenCV: out device of bound (0-1): 6\n",
      "OpenCV: camera failed to properly initialize!\n",
      "OpenCV: out device of bound (0-1): 7\n",
      "OpenCV: camera failed to properly initialize!\n",
      "OpenCV: out device of bound (0-1): 8\n",
      "OpenCV: camera failed to properly initialize!\n",
      "OpenCV: out device of bound (0-1): 9\n",
      "OpenCV: camera failed to properly initialize!\n"
     ]
    },
    {
     "data": {
      "text/plain": [
       "[0, 1]"
      ]
     },
     "execution_count": 15,
     "metadata": {},
     "output_type": "execute_result"
    }
   ],
   "source": [
    "from util import camera_util\n",
    "\n",
    "cameras = camera_util.list_connected_cameras()\n",
    "cameras"
   ]
  },
  {
   "cell_type": "code",
   "execution_count": 16,
   "id": "f4b9b8d2",
   "metadata": {},
   "outputs": [
    {
     "name": "stdout",
     "output_type": "stream",
     "text": [
      "Captured image shape: (1080, 1920, 3)\n",
      "Camera 0 processed successfully.\n",
      "Captured image shape: (1080, 1920, 3)\n",
      "Camera 1 processed successfully.\n"
     ]
    }
   ],
   "source": [
    "import cv2\n",
    "from input_managers.camera_manager import CameraManager\n",
    "\n",
    "for camera in cameras:\n",
    "    camera_manager = CameraManager(camera)\n",
    "    _, img = camera_manager.capture_image()\n",
    "    cv2.imwrite(f\"tests/images/camera_left_{camera}.jpg\", img.left_image)\n",
    "    cv2.imwrite(f\"tests/images/camera_right_{camera}.jpg\", img.right_image)\n",
    "    print(f\"Camera {camera} processed successfully.\")\n",
    "     "
   ]
  },
  {
   "cell_type": "code",
   "execution_count": null,
   "id": "bf7598af",
   "metadata": {},
   "outputs": [],
   "source": []
  }
 ],
 "metadata": {
  "kernelspec": {
   "display_name": "venv",
   "language": "python",
   "name": "python3"
  },
  "language_info": {
   "codemirror_mode": {
    "name": "ipython",
    "version": 3
   },
   "file_extension": ".py",
   "mimetype": "text/x-python",
   "name": "python",
   "nbconvert_exporter": "python",
   "pygments_lexer": "ipython3",
   "version": "3.11.0"
  }
 },
 "nbformat": 4,
 "nbformat_minor": 5
}
