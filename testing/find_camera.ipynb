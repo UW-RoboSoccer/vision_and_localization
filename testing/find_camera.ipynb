{
 "cells": [
  {
   "cell_type": "code",
   "execution_count": 1,
   "id": "a81a8f9e",
   "metadata": {},
   "outputs": [
    {
     "name": "stdout",
     "output_type": "stream",
     "text": [
      "4.11.0\n"
     ]
    }
   ],
   "source": [
    "import cv2\n",
    "print(cv2.__version__)"
   ]
  },
  {
   "cell_type": "code",
   "execution_count": null,
   "id": "3e7562cb",
   "metadata": {},
   "outputs": [
    {
     "name": "stdout",
     "output_type": "stream",
     "text": [
      "Available camera indices: [1, 2]\n"
     ]
    },
    {
     "name": "stderr",
     "output_type": "stream",
     "text": [
      "OpenCV: out device of bound (0-2): 3\n",
      "OpenCV: camera failed to properly initialize!\n",
      "OpenCV: out device of bound (0-2): 4\n",
      "OpenCV: camera failed to properly initialize!\n",
      "OpenCV: out device of bound (0-2): 5\n",
      "OpenCV: camera failed to properly initialize!\n",
      "OpenCV: out device of bound (0-2): 6\n",
      "OpenCV: camera failed to properly initialize!\n",
      "OpenCV: out device of bound (0-2): 7\n",
      "OpenCV: camera failed to properly initialize!\n",
      "OpenCV: out device of bound (0-2): 8\n",
      "OpenCV: camera failed to properly initialize!\n",
      "OpenCV: out device of bound (0-2): 9\n",
      "OpenCV: camera failed to properly initialize!\n"
     ]
    },
    {
     "ename": "",
     "evalue": "",
     "output_type": "error",
     "traceback": [
      "\u001b[1;31mThe Kernel crashed while executing code in the current cell or a previous cell. \n",
      "\u001b[1;31mPlease review the code in the cell(s) to identify a possible cause of the failure. \n",
      "\u001b[1;31mClick <a href='https://aka.ms/vscodeJupyterKernelCrash'>here</a> for more info. \n",
      "\u001b[1;31mView Jupyter <a href='command:jupyter.viewOutput'>log</a> for further details."
     ]
    }
   ],
   "source": [
    "def list_connected_cameras(max_index=10):\n",
    "    available_cameras = []\n",
    "    for index in range(max_index):\n",
    "        cap = cv2.VideoCapture(index)\n",
    "        if cap.read()[0]:\n",
    "            available_cameras.append(index)\n",
    "        cap.release()\n",
    "    return available_cameras\n",
    "\n",
    "cameras = list_connected_cameras()\n",
    "print(f\"Available camera indices: {cameras}\")\n"
   ]
  },
  {
   "cell_type": "code",
   "execution_count": 28,
   "id": "59e578c5",
   "metadata": {},
   "outputs": [],
   "source": [
    "cameras = [0]"
   ]
  },
  {
   "cell_type": "code",
   "execution_count": 29,
   "id": "fef290b9",
   "metadata": {},
   "outputs": [
    {
     "name": "stdout",
     "output_type": "stream",
     "text": [
      "Failed to capture image from camera 0\n"
     ]
    }
   ],
   "source": [
    "# capture image for each camera\n",
    "\n",
    "for camera_index in cameras:\n",
    "    cap = cv2.VideoCapture(camera_index)\n",
    "    ret, frame = cap.read()\n",
    "    if ret:\n",
    "        # save to file\n",
    "        filename = f\"camera_{camera_index}.jpg\"\n",
    "        cv2.imwrite(filename, frame)\n",
    "        print(f\"Captured image from camera {camera_index} and saved to {filename}\")\n",
    "    else:\n",
    "        print(f\"Failed to capture image from camera {camera_index}\")\n",
    "    cap.release()"
   ]
  },
  {
   "cell_type": "code",
   "execution_count": 31,
   "id": "eb66c318",
   "metadata": {},
   "outputs": [
    {
     "name": "stdout",
     "output_type": "stream",
     "text": [
      "Failed to capture image from camera 0\n"
     ]
    }
   ],
   "source": [
    "cap = cv2.VideoCapture(0)\n",
    "ret, frame = cap.read()\n",
    "if ret:\n",
    "    # save to file\n",
    "    filename = f\"camera_{camera_index}.jpg\"\n",
    "    cv2.imwrite(filename, frame)\n",
    "    print(f\"Captured image from camera {camera_index} and saved to {filename}\")\n",
    "else:\n",
    "    print(f\"Failed to capture image from camera {camera_index}\")\n",
    "cap.release()"
   ]
  },
  {
   "cell_type": "code",
   "execution_count": null,
   "id": "5c6079ba",
   "metadata": {},
   "outputs": [],
   "source": []
  }
 ],
 "metadata": {
  "kernelspec": {
   "display_name": "Python 3",
   "language": "python",
   "name": "python3"
  },
  "language_info": {
   "codemirror_mode": {
    "name": "ipython",
    "version": 3
   },
   "file_extension": ".py",
   "mimetype": "text/x-python",
   "name": "python",
   "nbconvert_exporter": "python",
   "pygments_lexer": "ipython3",
   "version": "3.11.0"
  }
 },
 "nbformat": 4,
 "nbformat_minor": 5
}
